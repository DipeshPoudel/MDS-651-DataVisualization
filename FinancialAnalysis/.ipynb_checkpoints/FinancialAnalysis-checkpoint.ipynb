{
 "cells": [
  {
   "cell_type": "code",
   "execution_count": 1,
   "id": "3777fc8d",
   "metadata": {},
   "outputs": [],
   "source": [
    "import numpy as np\n",
    "import pandas as pd\n",
    "import yfinance as yf\n",
    "yf.pdr_override()\n",
    "from pandas_datareader import data as wb\n",
    "import matplotlib.pyplot as plt\n",
    "import datetime\n",
    "from datetime import date, datetime, time, timezone"
   ]
  },
  {
   "cell_type": "code",
   "execution_count": 2,
   "id": "1c302a13",
   "metadata": {},
   "outputs": [],
   "source": [
    "def get_stock_data(ticker,start,end):\n",
    "    data = wb.DataReader(ticker, start,end)\n",
    "    data.insert(0,\"Ticker\",ticker)\n",
    "    return data"
   ]
  },
  {
   "cell_type": "code",
   "execution_count": 3,
   "id": "afac6dd4",
   "metadata": {},
   "outputs": [],
   "source": [
    "ticker = 'DIS'\n",
    "start = datetime(2020,1,1)\n",
    "end = datetime.today()"
   ]
  },
  {
   "cell_type": "code",
   "execution_count": 4,
   "id": "ad69e5ad",
   "metadata": {},
   "outputs": [
    {
     "name": "stdout",
     "output_type": "stream",
     "text": [
      "[*********************100%***********************]  1 of 1 completed\n"
     ]
    }
   ],
   "source": [
    "df = get_stock_data(ticker=ticker,start=start,end=end)"
   ]
  },
  {
   "cell_type": "code",
   "execution_count": 5,
   "id": "e5a48bf2",
   "metadata": {},
   "outputs": [
    {
     "data": {
      "text/html": [
       "<div>\n",
       "<style scoped>\n",
       "    .dataframe tbody tr th:only-of-type {\n",
       "        vertical-align: middle;\n",
       "    }\n",
       "\n",
       "    .dataframe tbody tr th {\n",
       "        vertical-align: top;\n",
       "    }\n",
       "\n",
       "    .dataframe thead th {\n",
       "        text-align: right;\n",
       "    }\n",
       "</style>\n",
       "<table border=\"1\" class=\"dataframe\">\n",
       "  <thead>\n",
       "    <tr style=\"text-align: right;\">\n",
       "      <th></th>\n",
       "      <th>Ticker</th>\n",
       "      <th>Open</th>\n",
       "      <th>High</th>\n",
       "      <th>Low</th>\n",
       "      <th>Close</th>\n",
       "      <th>Adj Close</th>\n",
       "      <th>Volume</th>\n",
       "    </tr>\n",
       "    <tr>\n",
       "      <th>Date</th>\n",
       "      <th></th>\n",
       "      <th></th>\n",
       "      <th></th>\n",
       "      <th></th>\n",
       "      <th></th>\n",
       "      <th></th>\n",
       "      <th></th>\n",
       "    </tr>\n",
       "  </thead>\n",
       "  <tbody>\n",
       "    <tr>\n",
       "      <th>2020-01-02</th>\n",
       "      <td>DIS</td>\n",
       "      <td>145.289993</td>\n",
       "      <td>148.199997</td>\n",
       "      <td>145.100006</td>\n",
       "      <td>148.199997</td>\n",
       "      <td>148.199997</td>\n",
       "      <td>9502100</td>\n",
       "    </tr>\n",
       "    <tr>\n",
       "      <th>2020-01-03</th>\n",
       "      <td>DIS</td>\n",
       "      <td>146.399994</td>\n",
       "      <td>147.899994</td>\n",
       "      <td>146.050003</td>\n",
       "      <td>146.500000</td>\n",
       "      <td>146.500000</td>\n",
       "      <td>7320200</td>\n",
       "    </tr>\n",
       "    <tr>\n",
       "      <th>2020-01-06</th>\n",
       "      <td>DIS</td>\n",
       "      <td>145.539993</td>\n",
       "      <td>146.029999</td>\n",
       "      <td>144.309998</td>\n",
       "      <td>145.649994</td>\n",
       "      <td>145.649994</td>\n",
       "      <td>8262500</td>\n",
       "    </tr>\n",
       "    <tr>\n",
       "      <th>2020-01-07</th>\n",
       "      <td>DIS</td>\n",
       "      <td>145.990005</td>\n",
       "      <td>146.869995</td>\n",
       "      <td>145.419998</td>\n",
       "      <td>145.699997</td>\n",
       "      <td>145.699997</td>\n",
       "      <td>6906500</td>\n",
       "    </tr>\n",
       "    <tr>\n",
       "      <th>2020-01-08</th>\n",
       "      <td>DIS</td>\n",
       "      <td>145.490005</td>\n",
       "      <td>146.130005</td>\n",
       "      <td>144.820007</td>\n",
       "      <td>145.399994</td>\n",
       "      <td>145.399994</td>\n",
       "      <td>6984200</td>\n",
       "    </tr>\n",
       "  </tbody>\n",
       "</table>\n",
       "</div>"
      ],
      "text/plain": [
       "           Ticker        Open        High         Low       Close   Adj Close  \\\n",
       "Date                                                                            \n",
       "2020-01-02    DIS  145.289993  148.199997  145.100006  148.199997  148.199997   \n",
       "2020-01-03    DIS  146.399994  147.899994  146.050003  146.500000  146.500000   \n",
       "2020-01-06    DIS  145.539993  146.029999  144.309998  145.649994  145.649994   \n",
       "2020-01-07    DIS  145.990005  146.869995  145.419998  145.699997  145.699997   \n",
       "2020-01-08    DIS  145.490005  146.130005  144.820007  145.399994  145.399994   \n",
       "\n",
       "             Volume  \n",
       "Date                 \n",
       "2020-01-02  9502100  \n",
       "2020-01-03  7320200  \n",
       "2020-01-06  8262500  \n",
       "2020-01-07  6906500  \n",
       "2020-01-08  6984200  "
      ]
     },
     "execution_count": 5,
     "metadata": {},
     "output_type": "execute_result"
    }
   ],
   "source": [
    "df.head()"
   ]
  },
  {
   "cell_type": "code",
   "execution_count": null,
   "id": "48133f21",
   "metadata": {},
   "outputs": [
    {
     "name": "stdout",
     "output_type": "stream",
     "text": [
      "[*********************100%***********************]  1 of 1 completed\n",
      "[*********************100%***********************]  1 of 1 completed\n"
     ]
    }
   ],
   "source": [
    "SPY=get_stock_data('SPY',start,end)\n",
    "IYW=get_stock_data('IYW',start,end)\n",
    "VT=get_stock_data('VT',start,end)\n",
    "DBA=get_stock_data('DBA',start,end)\n",
    "TLT=get_stock_data('TLT',start,end)\n",
    "PDBC=get_stock_data('PDBC',start,end)\n",
    "IAU=get_stock_data('IAU',start,end)"
   ]
  },
  {
   "cell_type": "code",
   "execution_count": null,
   "id": "e5af24a2",
   "metadata": {},
   "outputs": [],
   "source": [
    "SPY=SPY.pivot(index=None,columns=\"Ticker\",values=\"Close\")\n",
    "IYW=IYW.pivot(index=None,columns=\"Ticker\",values=\"Close\")\n",
    "VT=VT.pivot(index=None,columns=\"Ticker\",values=\"Close\")\n",
    "DBA=DBA.pivot(index=None,columns=\"Ticker\",values=\"Close\")\n",
    "TLT=TLT.pivot(index=None,columns=\"Ticker\",values=\"Close\")\n",
    "PDBC=PDBC.pivot(index=None,columns=\"Ticker\",values=\"Close\")\n",
    "IAU=IAU.pivot(index=None,columns=\"Ticker\",values=\"Close\")"
   ]
  },
  {
   "cell_type": "code",
   "execution_count": null,
   "id": "26129c39",
   "metadata": {},
   "outputs": [],
   "source": []
  },
  {
   "cell_type": "code",
   "execution_count": null,
   "id": "c46ce7b8",
   "metadata": {},
   "outputs": [],
   "source": []
  }
 ],
 "metadata": {
  "kernelspec": {
   "display_name": "Python 3 (ipykernel)",
   "language": "python",
   "name": "python3"
  },
  "language_info": {
   "codemirror_mode": {
    "name": "ipython",
    "version": 3
   },
   "file_extension": ".py",
   "mimetype": "text/x-python",
   "name": "python",
   "nbconvert_exporter": "python",
   "pygments_lexer": "ipython3",
   "version": "3.7.0"
  }
 },
 "nbformat": 4,
 "nbformat_minor": 5
}
